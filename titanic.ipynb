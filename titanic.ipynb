{
 "cells": [
  {
   "cell_type": "markdown",
   "metadata": {
    "collapsed": true
   },
   "source": [
    "# Titanic\n",
    "\n",
    "This is a quick response to some thoughts I had on [Chris Deotte's](https://www.kaggle.com/cdeotte) great kernel [Titanic using Name only](https://www.kaggle.com/cdeotte/titanic-using-name-only-0-81818/notebook), which I definitely suggest you look at if you haven't already.\n",
    "\n",
    "To sumarise quickly, his approach makes predictions based on the following rules:\n",
    "\n",
    "* All males die except boys in families where all females and boys live.\n",
    "\n",
    "* All females live except those in families where all females and boys die.\n",
    "\n",
    "Boys are defined as passengers with the title \"Master\", and families are defined as groups of people with the same surname.\n",
    "\n",
    "I was wondering what would happen if you group passengers sharing same ticket number, instead of passengers with the same surname. My main thought process for this was:\n",
    "\n",
    "* Passengers with the same surname may not come from the same family (could come from multiple families).\n",
    "\n",
    "* There may be important non-surname based groups, for example travelling friends, non-married couples etc.  \n",
    "\n",
    "So this notebook uses Chris' approach with ticket grouping and compares the results.\n",
    "\n",
    "UPDATE: Now using Chris' suggestion of the engineered TicketId feature."
   ]
  },
  {
   "cell_type": "code",
   "execution_count": 1,
   "metadata": {
    "collapsed": true
   },
   "outputs": [],
   "source": [
    "# load the data\n",
    "import pandas as pd\n",
    "df = pd.read_csv('train.csv',index_col='PassengerId')"
   ]
  },
  {
   "cell_type": "code",
   "execution_count": 2,
   "metadata": {},
   "outputs": [],
   "source": [
    "# select females and masters (boys)\n",
    "boy = (df.Name.str.contains('Master')) | ((df.Sex=='male') & (df.Age<13))\n",
    "female = df.Sex=='female'\n",
    "boy_or_female = boy | female\n",
    "\n",
    "#TicketId improvement suggested by Chris Deotte again\n",
    "# Ticket no. without last digit with fare appended\n",
    "df['TicketId'] = df.Ticket.str[:-1] + '-' + df.Fare.astype(str)"
   ]
  },
  {
   "cell_type": "code",
   "execution_count": 3,
   "metadata": {
    "collapsed": true
   },
   "outputs": [],
   "source": [
    "# function to calculate boy+female survival rate\n",
    "# amongst passengers grouped by \"group\"\n",
    "def group_survival(group):\n",
    "    # no. passengers in group\n",
    "    n_group = df[boy_or_female].groupby(group).Survived.count()\n",
    "    \n",
    "    # survival rate in group\n",
    "    surv_group = df[boy_or_female].groupby(group).Survived.mean()\n",
    "    \n",
    "    return n_group, surv_group"
   ]
  },
  {
   "cell_type": "code",
   "execution_count": 4,
   "metadata": {
    "collapsed": true
   },
   "outputs": [],
   "source": [
    "# function to create relevant features for test data\n",
    "def create_features(frame, group):\n",
    "    \n",
    "    # new features to engineer from test data columns\n",
    "    frame['Boy'] = (frame.Name.str.contains('Master')) | ((frame.Sex=='male') & (frame.Age<13))\n",
    "    frame['Female'] = (frame.Sex=='female').astype(int)\n",
    "   \n",
    "    frame['TicketId'] = frame.Ticket.str[:-1] + '-' + frame.Fare.astype(str)\n",
    "\n",
    "    # female+boy survival in training data grouped by 'group'\n",
    "    n_group, surv_group = group_survival(group)\n",
    "    \n",
    "    # if group exists in training data, fill NGroup with no. women+boys\n",
    "    # in that group in the training data.\n",
    "    frame['NGroup'] = frame[group].replace(n_group)\n",
    "    # otherwise NGroup=0\n",
    "    frame.loc[~frame[group].isin(n_group.index),'NGroup']=0\n",
    "\n",
    "    # if group exists in training data, fill GroupSurv with\n",
    "    # women+boys survival rate in training data  \n",
    "    frame['GroupSurv'] = frame[group].replace(surv_group)\n",
    "    # otherwise TicketSurv=0\n",
    "    frame.loc[~frame[group].isin(surv_group.index),'GroupSurv']=0\n",
    "\n",
    "    # return data frame only including features needed for prediction\n",
    "    return frame[['Female','Boy','NGroup','GroupSurv']]\n"
   ]
  },
  {
   "cell_type": "code",
   "execution_count": 5,
   "metadata": {
    "collapsed": true
   },
   "outputs": [],
   "source": [
    "# predict survival for a passenger\n",
    "def did_survive(row):\n",
    "    if row.Female:\n",
    "        # predict died if all women+boys in group died\n",
    "        if (row.NGroup>0) and (row.GroupSurv==0):\n",
    "            return 0\n",
    "        # predict survived for all other women\n",
    "        else:\n",
    "            return 1\n",
    "        \n",
    "    elif row.Boy:\n",
    "        # predict survived if all women+boys in group survived\n",
    "        if (row.NGroup>0) and (row.GroupSurv==1):\n",
    "            return 1\n",
    "        # predict died for all other boys\n",
    "        else:\n",
    "            return 0\n",
    "        \n",
    "    else:\n",
    "        # predict all men die\n",
    "        return 0"
   ]
  },
  {
   "cell_type": "code",
   "execution_count": 6,
   "metadata": {},
   "outputs": [
    {
     "name": "stdout",
     "output_type": "stream",
     "text": [
      "0    270\n",
      "1    148\n",
      "Name: Survived, dtype: int64\n"
     ]
    }
   ],
   "source": [
    "# load test data\n",
    "df_test = pd.read_csv('test.csv',index_col='PassengerId')\n",
    "\n",
    "# extract the features to use\n",
    "X = create_features(df_test,'TicketId')\n",
    "\n",
    "# predict test data\n",
    "pred = X.apply(did_survive,axis=1)\n",
    "\n",
    "# create submission file\n",
    "pred = pd.DataFrame(pred) \n",
    "pred.rename(columns={0:'Survived'},inplace=True)\n",
    "pred.to_csv('submission.csv')\n",
    "\n",
    "print(pred.Survived.value_counts())"
   ]
  }
 ],
 "metadata": {
  "kernelspec": {
   "display_name": "Python 3",
   "language": "python",
   "name": "python3"
  },
  "language_info": {
   "codemirror_mode": {
    "name": "ipython",
    "version": 3
   },
   "file_extension": ".py",
   "mimetype": "text/x-python",
   "name": "python",
   "nbconvert_exporter": "python",
   "pygments_lexer": "ipython3",
   "version": "3.6.3"
  }
 },
 "nbformat": 4,
 "nbformat_minor": 2
}
